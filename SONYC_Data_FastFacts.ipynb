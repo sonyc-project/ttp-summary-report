{
 "cells": [
  {
   "cell_type": "code",
   "execution_count": 3,
   "id": "609b2d47",
   "metadata": {},
   "outputs": [],
   "source": [
    "import pandas as pd\n",
    "import glob\n",
    "import os\n",
    "import datetime\n",
    "import pprint\n",
    "pp = pprint.PrettyPrinter(indent=4)\n",
    "\n",
    "import numpy as np"
   ]
  },
  {
   "cell_type": "code",
   "execution_count": null,
   "id": "d58acc9f",
   "metadata": {},
   "outputs": [],
   "source": [
    "sensorFolder = 'spl-deploy-rc3flr'"
   ]
  },
  {
   "cell_type": "code",
   "execution_count": 5,
   "id": "4fc0ba45",
   "metadata": {},
   "outputs": [
    {
     "name": "stdout",
     "output_type": "stream",
     "text": [
      "2022-05-18.csv\n"
     ]
    }
   ],
   "source": [
    "#selecting all the csv files\n",
    "files = os.path.join(sensorFolder,\"2022*.csv\")\n",
    "\n",
    "# list of merged files returned\n",
    "files = glob.glob(files)\n",
    "\n",
    "#sorting files by date\n",
    "files.sort()\n",
    "# pp.pprint(files)\n",
    "\n",
    "#checking a single file\n",
    "print(files[0])"
   ]
  },
  {
   "cell_type": "code",
   "execution_count": 7,
   "id": "c6f71565",
   "metadata": {},
   "outputs": [
    {
     "name": "stdout",
     "output_type": "stream",
     "text": [
      "Resultant CSV after joining all CSV files at a particular location...\n",
      "         Unnamed: 0   laeq   lceq   lzeq          time\n",
      "0                 0  64.35  72.85  73.29  1.652933e+09\n",
      "1                 1  64.44  73.43  73.85  1.652933e+09\n",
      "2                 2  64.08  72.59  73.08  1.652933e+09\n",
      "3                 3  64.06  71.71  72.36  1.652933e+09\n",
      "4                 4  63.41  71.62  72.22  1.652933e+09\n",
      "...             ...    ...    ...    ...           ...\n",
      "1930958         115  61.96  72.26  73.65  1.655093e+09\n",
      "1930959         116  61.29  73.09  74.81  1.655093e+09\n",
      "1930960         117  58.99  73.20  74.77  1.655093e+09\n",
      "1930961         118  58.27  74.80  76.56  1.655093e+09\n",
      "1930962         119  58.17  73.69  75.72  1.655093e+09\n",
      "\n",
      "[1930963 rows x 5 columns]\n"
     ]
    }
   ],
   "source": [
    "print(\"Resultant CSV after joining all CSV files at a particular location...\");\n",
    "# joining files with concat and read_csv\n",
    "df = pd.concat(map(pd.read_csv, files), ignore_index=True)\n",
    "print(df)"
   ]
  },
  {
   "cell_type": "code",
   "execution_count": 8,
   "id": "e9674499",
   "metadata": {},
   "outputs": [],
   "source": [
    "#converting epoch time to datetime\n",
    "df['time'] = df.time.apply(datetime.datetime.fromtimestamp)\n",
    "# df['time'] = pd.to_datetime(df['time'], unit = 's')\n",
    "df.rename(columns={'time': 'datetime'}, inplace=True)\n"
   ]
  },
  {
   "cell_type": "code",
   "execution_count": 9,
   "id": "1c4eec36",
   "metadata": {},
   "outputs": [],
   "source": [
    "#adding additional columns for datetime \n",
    "\n",
    "#extracting exact date\n",
    "df['date'] = df['datetime'].dt.date\n",
    "\n",
    "#extracting day of week\n",
    "df['dayofweek'] = df['datetime'].dt.dayofweek\n",
    "# df['dayofweek_name'] = df['datetime'].dt.day_name\n",
    "\n",
    "#extracting extra data\n",
    "# df['hour'] = df['datetime'].dt.hour\n",
    "# df['min'] = df['datetime'].dt.minute\n",
    "# df['sec'] = df['datetime'].dt.second"
   ]
  },
  {
   "cell_type": "code",
   "execution_count": 10,
   "id": "7c6cb1fa",
   "metadata": {},
   "outputs": [
    {
     "name": "stdout",
     "output_type": "stream",
     "text": [
      "         Unnamed: 0   laeq   lceq   lzeq                datetime        date  \\\n",
      "0                 0  64.35  72.85  73.29 2022-05-18 23:59:16.155  2022-05-18   \n",
      "1                 1  64.44  73.43  73.85 2022-05-18 23:59:16.898  2022-05-18   \n",
      "2                 2  64.08  72.59  73.08 2022-05-18 23:59:18.392  2022-05-18   \n",
      "3                 3  64.06  71.71  72.36 2022-05-18 23:59:19.126  2022-05-18   \n",
      "4                 4  63.41  71.62  72.22 2022-05-18 23:59:19.871  2022-05-18   \n",
      "...             ...    ...    ...    ...                     ...         ...   \n",
      "1930958         115  61.96  72.26  73.65 2022-06-13 00:01:54.668  2022-06-13   \n",
      "1930959         116  61.29  73.09  74.81 2022-06-13 00:01:56.150  2022-06-13   \n",
      "1930960         117  58.99  73.20  74.77 2022-06-13 00:01:56.893  2022-06-13   \n",
      "1930961         118  58.27  74.80  76.56 2022-06-13 00:01:57.638  2022-06-13   \n",
      "1930962         119  58.17  73.69  75.72 2022-06-13 00:01:59.125  2022-06-13   \n",
      "\n",
      "         dayofweek  \n",
      "0                2  \n",
      "1                2  \n",
      "2                2  \n",
      "3                2  \n",
      "4                2  \n",
      "...            ...  \n",
      "1930958          0  \n",
      "1930959          0  \n",
      "1930960          0  \n",
      "1930961          0  \n",
      "1930962          0  \n",
      "\n",
      "[1930963 rows x 7 columns]\n"
     ]
    }
   ],
   "source": [
    "#checking file\n",
    "print(df)"
   ]
  },
  {
   "cell_type": "code",
   "execution_count": 11,
   "id": "febe52e7",
   "metadata": {},
   "outputs": [],
   "source": [
    "#saving df to csv\n",
    "#df.to_csv('masterdata.csv') uncomment to save file locally"
   ]
  },
  {
   "cell_type": "code",
   "execution_count": 108,
   "id": "5352e23b",
   "metadata": {},
   "outputs": [],
   "source": [
    "#extracting day of week & time of day labels\n",
    "timeofdayDict = {0: 'Early Morning (12am-6am)', \n",
    "                 6: 'Morning (6am-12pm)', \n",
    "                 12: 'Afternoon (12pm-6pm)', \n",
    "                 18: 'Night (6pm-12am)'}\n",
    "\n",
    "TDlabels = list(timeofdayDict.values())\n",
    "# print(timeofdayDict)\n",
    "\n",
    "daysofweekDict = {0:'Monday', 1: 'Tuesday', 2: 'Wednesday', 3: 'Thursday', \n",
    "                  4: 'Friday', 5: 'Saturday',6: 'Sunday'}\n",
    "\n",
    "DWlabels = list(daysofweekDict.values())\n",
    "\n",
    "\n",
    "# timeofdayDict[12]\n",
    "# daysofweekDict[4]"
   ]
  },
  {
   "cell_type": "markdown",
   "id": "a561f10e",
   "metadata": {},
   "source": [
    "### Objective Dates"
   ]
  },
  {
   "cell_type": "code",
   "execution_count": 109,
   "id": "d5b30b3b",
   "metadata": {},
   "outputs": [
    {
     "name": "stdout",
     "output_type": "stream",
     "text": [
      "Minimum LAeq 61.51616386194722 and its corresponding date: 2022-06-05\n",
      "Maximum LAeq 66.44829100529083 and its corresponding date: 2022-05-20\n"
     ]
    }
   ],
   "source": [
    "\"\"\"\n",
    "FINDING MIN & MAX AVERAGE LAEQ LEVEL DAY OF ALL DATES\n",
    "\"\"\"\n",
    "DTaggs = df.groupby(['date']).agg({'laeq': ['mean', 'max']})\n",
    "DTaggs.columns = ['laeq_mean', 'laeq_max']\n",
    "DTaggs = DTaggs.reset_index()\n",
    "\n",
    "mean_min = DTaggs.laeq_mean.min()\n",
    "mean_minDay = DTaggs.loc[DTaggs['laeq_mean'].idxmin(), 'date']\n",
    "\n",
    "\n",
    "print(\"Minimum LAeq\", mean_min, \"and its corresponding date:\", mean_minDay)\n",
    "\n",
    "mean_max = DTaggs.laeq_mean.max()\n",
    "mean_maxDay = DTaggs.loc[DTaggs['laeq_mean'].idxmax(), 'date']\n",
    "\n",
    "# print(mean_max, mean_maxDay)\n",
    "print(\"Maximum LAeq\", mean_max, \"and its corresponding date:\", mean_maxDay)\n",
    "\n",
    "# print(\"Maximum value of column \", col, \" and its corresponding row values:\\n\", max_x)\n",
    "\n"
   ]
  },
  {
   "cell_type": "code",
   "execution_count": 148,
   "id": "cbbc2b15",
   "metadata": {},
   "outputs": [
    {
     "name": "stdout",
     "output_type": "stream",
     "text": [
      "Loudest Day: 2022-06-13 \n",
      "Day of Week: Monday \n",
      "Time: 11:51:16.049000\n"
     ]
    }
   ],
   "source": [
    "# print(df)\n",
    "\n",
    "\"\"\"\n",
    "FINDING MAX LAEQ LEVEL OF ALL DATES\n",
    "\"\"\"\n",
    "absMax = df.laeq.max()\n",
    "absMax\n",
    "absMaxInfo = df.loc[df['laeq'].idxmax()]\n",
    "time_absMax = absMaxInfo.name.time()\n",
    "\n",
    "# print(absMaxInfo)\n",
    "\n",
    "print('Loudest Day:',absMaxInfo['date'], \n",
    "      '\\nDay of Week:', daysofweekDict[absMaxInfo['dayofweek']],\n",
    "     '\\nTime:', time_absMax)"
   ]
  },
  {
   "cell_type": "markdown",
   "id": "cf8cb754",
   "metadata": {},
   "source": [
    "### Day of Week"
   ]
  },
  {
   "cell_type": "code",
   "execution_count": 114,
   "id": "d5dec324",
   "metadata": {},
   "outputs": [
    {
     "name": "stdout",
     "output_type": "stream",
     "text": [
      "Minimum LAeq 61.750916724371315 and its corresponding day of week: Sunday\n",
      "Maximum LAeq 63.6004801983995 and its corresponding day of week: Thursday\n"
     ]
    }
   ],
   "source": [
    "\"\"\"\n",
    "FINDING MIN & MAX AVG LAEQ LEVEL DAY OF WEEK\n",
    "\"\"\"\n",
    "DWaggs = df.groupby(['dayofweek']).agg({'laeq': ['mean', 'max']})\n",
    "DWaggs.columns = ['DWlaeq_mean', 'DWlaeq_max']\n",
    "DWaggs = DWaggs.reset_index()\n",
    "\n",
    "DWmean_min = DWaggs.DWlaeq_mean.min()\n",
    "DWmean_minDay = DWaggs.loc[DWaggs['DWlaeq_mean'].idxmin(), 'dayofweek']\n",
    "\n",
    "print(\"Minimum LAeq\", DWmean_min, \"and its corresponding day of week:\", daysofweekDict[DWmean_minDay])\n",
    "\n",
    "DWmean_max = DWaggs.DWlaeq_mean.max()\n",
    "DWmean_maxDay = DWaggs.loc[DWaggs_max['DWlaeq_mean'].idxmax(), 'dayofweek']\n",
    "\n",
    "# print(DWmean_max, DWmean_maxDay)\n",
    "\n",
    "print(\"Maximum LAeq\", DWmean_max, \"and its corresponding day of week:\", daysofweekDict[DWmean_maxDay])\n",
    "\n"
   ]
  },
  {
   "cell_type": "markdown",
   "id": "eb25b6cd",
   "metadata": {},
   "source": [
    "### Time of Day"
   ]
  },
  {
   "cell_type": "code",
   "execution_count": 117,
   "id": "81051a2a",
   "metadata": {},
   "outputs": [],
   "source": [
    "\"\"\"\n",
    "FINDING MIN & MAX AVG LAEQ LEVEL DAY OF WEEK\n",
    "\"\"\"\n",
    "#df.set_index('datetime',inplace=True) #only need to do this one\n",
    "TDdf = df.resample('6H').mean();\n",
    "# print(x)\n",
    "# print(x.index.hour)\n",
    "TDdf['hour'] = TDdf.index.hour;\n",
    "TDdf_mean = TDdf.groupby(['dayofweek', 'hour']).agg({'laeq': ['mean']})\n",
    "\n",
    "TDdf_mean.columns = ['TDlaeq_mean']\n",
    "TDdf_mean = TDdf_mean.reset_index()"
   ]
  },
  {
   "cell_type": "code",
   "execution_count": 116,
   "id": "7123d54b",
   "metadata": {},
   "outputs": [],
   "source": [
    "hours_ref=TDdf['hour']\n",
    "hourlist1=hours_ref.unique().tolist()\n",
    "hrlist = sorted(hourlist1)\n"
   ]
  },
  {
   "cell_type": "code",
   "execution_count": 105,
   "id": "0b69b548",
   "metadata": {},
   "outputs": [
    {
     "name": "stdout",
     "output_type": "stream",
     "text": [
      "Quietest Time and Day\n",
      "59.70269649148263 Early Morning (12am-6am) Sunday\n",
      "Loudest Time and Day\n",
      "65.71119381341273 Afternoon (12pm-6pm) Friday\n"
     ]
    }
   ],
   "source": [
    "# print(TDdf_mean)\n",
    "\n",
    "TDmean_min = TDdf_mean.TDlaeq_mean.min()\n",
    "TDmean_minHR = TDdf_mean.loc[TDdf_mean['TDlaeq_mean'].idxmin(), 'hour']\n",
    "TDmean_minDW = TDdf_mean.loc[TDdf_mean['TDlaeq_mean'].idxmin(), 'dayofweek']\n",
    "\n",
    "print('Quietest Time and Day')\n",
    "print(TDmean_min, timeofdayDict[TDmean_minHR],daysofweekDict[TDmean_minDW])\n",
    "\n",
    "TDmean_max = TDdf_mean.TDlaeq_mean.max()\n",
    "TDmean_maxHR = TDdf_mean.loc[TDdf_mean['TDlaeq_mean'].idxmax(), 'hour']\n",
    "TDmean_maxDW = TDdf_mean.loc[TDdf_mean['TDlaeq_mean'].idxmax(), 'dayofweek']\n",
    "\n",
    "print('Loudest Time and Day')\n",
    "print(TDmean_max, timeofdayDict[TDmean_maxHR], daysofweekDict[TDmean_maxDW])"
   ]
  },
  {
   "cell_type": "code",
   "execution_count": null,
   "id": "3f21cd92",
   "metadata": {},
   "outputs": [],
   "source": []
  }
 ],
 "metadata": {
  "kernelspec": {
   "display_name": "Python 3",
   "language": "python",
   "name": "python3"
  },
  "language_info": {
   "codemirror_mode": {
    "name": "ipython",
    "version": 3
   },
   "file_extension": ".py",
   "mimetype": "text/x-python",
   "name": "python",
   "nbconvert_exporter": "python",
   "pygments_lexer": "ipython3",
   "version": "3.8.8"
  }
 },
 "nbformat": 4,
 "nbformat_minor": 5
}
