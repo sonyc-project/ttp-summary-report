{
 "cells": [
  {
   "cell_type": "code",
   "execution_count": 1,
   "id": "9d5625ce",
   "metadata": {},
   "outputs": [],
   "source": [
    "import pandas as pd\n",
    "import glob\n",
    "import os\n",
    "import datetime\n",
    "import pprint\n",
    "pp = pprint.PrettyPrinter(indent=4)\n"
   ]
  },
  {
   "cell_type": "code",
   "execution_count": 2,
   "id": "71984e90",
   "metadata": {},
   "outputs": [],
   "source": [
    "sensorFolder = 'spl-deploy-rc3flr'"
   ]
  },
  {
   "cell_type": "markdown",
   "id": "2e982a72",
   "metadata": {},
   "source": [
    "## Data Pre-Processing"
   ]
  },
  {
   "cell_type": "code",
   "execution_count": 3,
   "id": "4c46056a",
   "metadata": {},
   "outputs": [
    {
     "name": "stdout",
     "output_type": "stream",
     "text": [
      "[   '2022-06-09.csv',\n",
      "    '2022-06-08.csv',\n",
      "    '.DS_Store',\n",
      "    '2022-05-29.csv',\n",
      "    '2022-05-28.csv',\n",
      "    '2022-05-26.csv',\n",
      "    '2022-05-27.csv',\n",
      "    '2022-05-25.csv',\n",
      "    '2022-05-31.csv',\n",
      "    '2022-05-19.csv',\n",
      "    '2022-05-18.csv',\n",
      "    '2022-05-30.csv',\n",
      "    '2022-05-24.csv',\n",
      "    '2022-05-20.csv',\n",
      "    '2022-05-21.csv',\n",
      "    '2022-05-23.csv',\n",
      "    '2022-05-22.csv',\n",
      "    '.ipynb_checkpoints',\n",
      "    '2022-06-01.csv',\n",
      "    '2022-06-03.csv',\n",
      "    '2022-06-02.csv',\n",
      "    '2022-06-12.csv',\n",
      "    '2022-06-06.csv',\n",
      "    '2022-06-07.csv',\n",
      "    '2022-06-13.csv',\n",
      "    '2022-06-05.csv',\n",
      "    '2022-06-11.csv',\n",
      "    '2022-06-10.csv',\n",
      "    '2022-06-04.csv']\n"
     ]
    }
   ],
   "source": [
    "#checking files in folder -- this notebook is in the same directory\n",
    "\n",
    "\"\"\"\n",
    "optional\n",
    "\n",
    "\"\"\"\n",
    "files = os.listdir('./'+sensorFolder)\n",
    "pp.pprint(files)"
   ]
  },
  {
   "cell_type": "code",
   "execution_count": 4,
   "id": "401ce83c",
   "metadata": {},
   "outputs": [
    {
     "name": "stdout",
     "output_type": "stream",
     "text": [
      "[   'spl-deploy-rc3flr/2022-05-18.csv',\n",
      "    'spl-deploy-rc3flr/2022-05-19.csv',\n",
      "    'spl-deploy-rc3flr/2022-05-20.csv',\n",
      "    'spl-deploy-rc3flr/2022-05-21.csv',\n",
      "    'spl-deploy-rc3flr/2022-05-22.csv',\n",
      "    'spl-deploy-rc3flr/2022-05-23.csv',\n",
      "    'spl-deploy-rc3flr/2022-05-24.csv',\n",
      "    'spl-deploy-rc3flr/2022-05-25.csv',\n",
      "    'spl-deploy-rc3flr/2022-05-26.csv',\n",
      "    'spl-deploy-rc3flr/2022-05-27.csv',\n",
      "    'spl-deploy-rc3flr/2022-05-28.csv',\n",
      "    'spl-deploy-rc3flr/2022-05-29.csv',\n",
      "    'spl-deploy-rc3flr/2022-05-30.csv',\n",
      "    'spl-deploy-rc3flr/2022-05-31.csv',\n",
      "    'spl-deploy-rc3flr/2022-06-01.csv',\n",
      "    'spl-deploy-rc3flr/2022-06-02.csv',\n",
      "    'spl-deploy-rc3flr/2022-06-03.csv',\n",
      "    'spl-deploy-rc3flr/2022-06-04.csv',\n",
      "    'spl-deploy-rc3flr/2022-06-05.csv',\n",
      "    'spl-deploy-rc3flr/2022-06-06.csv',\n",
      "    'spl-deploy-rc3flr/2022-06-07.csv',\n",
      "    'spl-deploy-rc3flr/2022-06-08.csv',\n",
      "    'spl-deploy-rc3flr/2022-06-09.csv',\n",
      "    'spl-deploy-rc3flr/2022-06-10.csv',\n",
      "    'spl-deploy-rc3flr/2022-06-11.csv',\n",
      "    'spl-deploy-rc3flr/2022-06-12.csv',\n",
      "    'spl-deploy-rc3flr/2022-06-13.csv']\n",
      "spl-deploy-rc3flr/2022-05-18.csv\n"
     ]
    }
   ],
   "source": [
    "#selecting all the csv files\n",
    "files = os.path.join(sensorFolder,\"2022*.csv\")\n",
    "\n",
    "# list of merged files returned\n",
    "files = glob.glob(files)\n",
    "\n",
    "#sorting files by date\n",
    "files.sort()\n",
    "pp.pprint(files)\n",
    "\n",
    "#checking a single file\n",
    "print(files[0])"
   ]
  },
  {
   "cell_type": "code",
   "execution_count": null,
   "id": "6aebf7b1",
   "metadata": {},
   "outputs": [],
   "source": [
    "#getting total length of rows merged csv SHOULD be\n",
    "\"\"\"\n",
    "optional\n",
    "\n",
    "\"\"\"\n",
    "c = 0\n",
    "for f in files:\n",
    "    print(f)\n",
    "    results = pd.read_csv(f)\n",
    "    c+= len(results)\n",
    "print(c)"
   ]
  },
  {
   "cell_type": "code",
   "execution_count": 5,
   "id": "ab3f2852",
   "metadata": {},
   "outputs": [
    {
     "name": "stdout",
     "output_type": "stream",
     "text": [
      "Resultant CSV after joining all CSV files at a particular location...\n",
      "         Unnamed: 0   laeq   lceq   lzeq          time\n",
      "0                 0  64.35  72.85  73.29  1.652933e+09\n",
      "1                 1  64.44  73.43  73.85  1.652933e+09\n",
      "2                 2  64.08  72.59  73.08  1.652933e+09\n",
      "3                 3  64.06  71.71  72.36  1.652933e+09\n",
      "4                 4  63.41  71.62  72.22  1.652933e+09\n",
      "...             ...    ...    ...    ...           ...\n",
      "1930958         115  61.96  72.26  73.65  1.655093e+09\n",
      "1930959         116  61.29  73.09  74.81  1.655093e+09\n",
      "1930960         117  58.99  73.20  74.77  1.655093e+09\n",
      "1930961         118  58.27  74.80  76.56  1.655093e+09\n",
      "1930962         119  58.17  73.69  75.72  1.655093e+09\n",
      "\n",
      "[1930963 rows x 5 columns]\n"
     ]
    }
   ],
   "source": [
    "print(\"Resultant CSV after joining all CSV files at a particular location...\");\n",
    "# joining files with concat and read_csv\n",
    "df = pd.concat(map(pd.read_csv, files), ignore_index=True)\n",
    "print(df)"
   ]
  },
  {
   "cell_type": "code",
   "execution_count": 6,
   "id": "28a4cea4",
   "metadata": {},
   "outputs": [],
   "source": [
    "#converting epoch time to datetime\n",
    "df['time'] = df.time.apply(datetime.datetime.fromtimestamp)\n",
    "# df['time'] = pd.to_datetime(df['time'], unit = 's')\n",
    "df.rename(columns={'time': 'datetime'}, inplace=True)\n"
   ]
  },
  {
   "cell_type": "code",
   "execution_count": 7,
   "id": "be57301e",
   "metadata": {},
   "outputs": [],
   "source": [
    "#adding additional columns for datetime \n",
    "\n",
    "#extracting exact date\n",
    "df['date'] = df['datetime'].dt.date\n",
    "\n",
    "#extracting day of week\n",
    "df['dayofweek'] = df['datetime'].dt.dayofweek\n",
    "# df['dayofweek_name'] = df['datetime'].dt.day_name\n",
    "\n",
    "#extracting extra data\n",
    "# df['hour'] = df['datetime'].dt.hour\n",
    "# df['min'] = df['datetime'].dt.minute\n",
    "# df['sec'] = df['datetime'].dt.second"
   ]
  },
  {
   "cell_type": "code",
   "execution_count": 19,
   "id": "1d071782",
   "metadata": {},
   "outputs": [
    {
     "name": "stdout",
     "output_type": "stream",
     "text": [
      "         Unnamed: 0   laeq   lceq   lzeq                datetime        date  \\\n",
      "0                 0  64.35  72.85  73.29 2022-05-18 23:59:16.155  2022-05-18   \n",
      "1                 1  64.44  73.43  73.85 2022-05-18 23:59:16.898  2022-05-18   \n",
      "2                 2  64.08  72.59  73.08 2022-05-18 23:59:18.392  2022-05-18   \n",
      "3                 3  64.06  71.71  72.36 2022-05-18 23:59:19.126  2022-05-18   \n",
      "4                 4  63.41  71.62  72.22 2022-05-18 23:59:19.871  2022-05-18   \n",
      "...             ...    ...    ...    ...                     ...         ...   \n",
      "1930958         115  61.96  72.26  73.65 2022-06-13 00:01:54.668  2022-06-13   \n",
      "1930959         116  61.29  73.09  74.81 2022-06-13 00:01:56.150  2022-06-13   \n",
      "1930960         117  58.99  73.20  74.77 2022-06-13 00:01:56.893  2022-06-13   \n",
      "1930961         118  58.27  74.80  76.56 2022-06-13 00:01:57.638  2022-06-13   \n",
      "1930962         119  58.17  73.69  75.72 2022-06-13 00:01:59.125  2022-06-13   \n",
      "\n",
      "         dayofweek  \n",
      "0                2  \n",
      "1                2  \n",
      "2                2  \n",
      "3                2  \n",
      "4                2  \n",
      "...            ...  \n",
      "1930958          0  \n",
      "1930959          0  \n",
      "1930960          0  \n",
      "1930961          0  \n",
      "1930962          0  \n",
      "\n",
      "[1930963 rows x 7 columns]\n"
     ]
    }
   ],
   "source": [
    "#checking file\n",
    "print(df)\n"
   ]
  },
  {
   "cell_type": "code",
   "execution_count": null,
   "id": "a0262722",
   "metadata": {},
   "outputs": [],
   "source": [
    "#saving df to csv\n",
    "#df.to_csv('masterdata.csv') uncomment to save file locally"
   ]
  },
  {
   "cell_type": "markdown",
   "id": "b65167d7",
   "metadata": {},
   "source": [
    "## Analyzing Data"
   ]
  },
  {
   "cell_type": "code",
   "execution_count": 35,
   "id": "3c704723",
   "metadata": {},
   "outputs": [],
   "source": [
    "import matplotlib.pyplot as plt\n",
    "from matplotlib.pyplot import figure\n",
    "import numpy as np"
   ]
  },
  {
   "cell_type": "code",
   "execution_count": 113,
   "id": "304e8fd0",
   "metadata": {},
   "outputs": [],
   "source": [
    "def getBasicStat(groupbyThisName):\n",
    "    result = df.groupby(groupbyThisName).agg({'laeq': ['mean', 'min', 'max', 'std', 'median']})\n",
    "    ambientEQ = df.groupby(groupbyThisName).quantile(0.1)\n",
    "    \n",
    "    ambientEQ= ambientEQ['laeq']\n",
    "    days = result.index\n",
    "    means = result['laeq', 'mean']\n",
    "    mins = result['laeq', 'min']\n",
    "    maxs = result['laeq', 'max']\n",
    "    stds = result['laeq', 'std']\n",
    "    medians = result['laeq', 'median']\n",
    "    \n",
    "    \n",
    "#     return result\n",
    "    return days, means, mins, maxs, stds, medians, ambientEQ;"
   ]
  },
  {
   "cell_type": "code",
   "execution_count": 112,
   "id": "62cd60ed",
   "metadata": {},
   "outputs": [
    {
     "name": "stdout",
     "output_type": "stream",
     "text": [
      "                     Unnamed: 0    laeq    lceq    lzeq  dayofweek\n",
      "datetime                                                          \n",
      "2022-05-18 15:32:00         4.3  60.509  67.466  68.195        2.0\n",
      "2022-05-18 15:33:00         5.9  65.198  74.150  74.548        2.0\n",
      "2022-05-18 15:34:00         5.9  65.099  73.522  74.010        2.0\n",
      "2022-05-18 15:35:00         5.9  64.989  73.742  74.195        2.0\n",
      "2022-05-18 15:36:00         5.9  64.923  74.226  74.750        2.0\n",
      "...                         ...     ...     ...     ...        ...\n",
      "2022-06-13 18:57:00         5.9  62.499  74.743  75.947        0.0\n",
      "2022-06-13 18:58:00         6.8  62.590  74.434  75.756        0.0\n",
      "2022-06-13 18:59:00         5.0  62.430  74.420  75.690        0.0\n",
      "2022-06-13 19:00:00         5.9  62.648  74.506  75.614        0.0\n",
      "2022-06-13 19:01:00         6.8  62.738  75.004  76.308        0.0\n",
      "\n",
      "[37650 rows x 5 columns]\n",
      "datetime\n",
      "2022-05-18 15:32:00    60.509\n",
      "2022-05-18 15:33:00    65.198\n",
      "2022-05-18 15:34:00    65.099\n",
      "2022-05-18 15:35:00    64.989\n",
      "2022-05-18 15:36:00    64.923\n",
      "                        ...  \n",
      "2022-06-13 18:57:00    62.499\n",
      "2022-06-13 18:58:00    62.590\n",
      "2022-06-13 18:59:00    62.430\n",
      "2022-06-13 19:00:00    62.648\n",
      "2022-06-13 19:01:00    62.738\n",
      "Freq: T, Name: laeq, Length: 37650, dtype: float64\n"
     ]
    }
   ],
   "source": [
    "z = df.groupby(pd.Grouper(key='datetime', freq='1min')).agg({'laeq': ['mean', 'min', 'max']})\n",
    "ptile = df.groupby(pd.Grouper(key='datetime', freq='1min')).quantile(.10)\n",
    "\n",
    "# y = df.groupby(['datetime', '']).agg({'laeq': ['mean']})\n",
    "\n",
    "# print(x)\n",
    "# print(z)\n",
    "print(ptile)\n",
    "print(ptile['laeq'])\n",
    "\n",
    "# print(x.index.date)\n",
    "# y = x.groupby(x.index.date)\n",
    "# print(y)\n",
    "\n",
    "# print(np.percentile(df['laeq'], 90))"
   ]
  },
  {
   "cell_type": "code",
   "execution_count": 91,
   "id": "39f46b8f",
   "metadata": {},
   "outputs": [],
   "source": [
    "# z.plot()"
   ]
  },
  {
   "cell_type": "markdown",
   "id": "70d6cfc7",
   "metadata": {},
   "source": [
    "#### Time-Series: All Data "
   ]
  },
  {
   "cell_type": "code",
   "execution_count": 131,
   "id": "f15fc3af",
   "metadata": {},
   "outputs": [],
   "source": [
    "DTdays, DTmeans, DTmins, DTmaxs, DTstds, DTmedians, DTambient = getBasicStat(pd.Grouper(key='datetime', freq='30min'))\n",
    "# DTdays, DTmeans, DTmins, DTmaxs, DTstds, DTmedians = getBasicStat('date')\n",
    "# DTdays = DTdays.date"
   ]
  },
  {
   "cell_type": "code",
   "execution_count": 132,
   "id": "c93c3267",
   "metadata": {},
   "outputs": [],
   "source": [
    "# print(np.unique(DTdays.date))"
   ]
  },
  {
   "cell_type": "code",
   "execution_count": 136,
   "id": "7f627c16",
   "metadata": {},
   "outputs": [
    {
     "data": {
      "image/png": "[encoded data removed]",
      "text/plain": [
       "<Figure size 1200x640 with 1 Axes>"
      ]
     },
     "metadata": {
      "needs_background": "light"
     },
     "output_type": "display_data"
    }
   ],
   "source": [
    "figure(figsize=(15, 8), dpi=80)\n",
    "plt.plot(DTdays, DTmeans)\n",
    "plt.plot(DTdays, DTmins, alpha = 0.9)\n",
    "plt.plot(DTdays, DTmaxs, '.', alpha = .4)\n",
    "\n",
    "plt.plot(DTdays, DTambient,'.-', c='c', alpha=0.5)\n",
    "\n",
    "# plt.plot(DTdays, DTmedians)\n",
    "plt.xticks(np.unique(DTdays.date))  # Set text labels.\n",
    "plt.xlabel('Dates')\n",
    "plt.ylabel('LAeq')\n",
    "plt.xticks(rotation = 90)\n",
    "plt.title('LAeq levels from 5/18 to 6/13')\n",
    "# plt.errorbar(DTdays, DTmeans, yerr = DTstds, c = 'c')\n",
    "plt.legend(['Average','Min', 'Max', 'Ambient'])\n",
    "# plt.legend(['Average','Min', 'Max', 'Median'])\n",
    "plt.grid(True)\n",
    "plt.show()"
   ]
  },
  {
   "cell_type": "markdown",
   "id": "85b783e1",
   "metadata": {},
   "source": [
    "#### Time Series: Day of Week"
   ]
  },
  {
   "cell_type": "code",
   "execution_count": 184,
   "id": "32485f6c",
   "metadata": {},
   "outputs": [
    {
     "name": "stdout",
     "output_type": "stream",
     "text": [
      "                 laeq               ambient dayofweek\n",
      "                 mean    min    max                  \n",
      "datetime                                             \n",
      "2022-05-18  65.841178  60.14  88.32   64.58         2\n",
      "2022-05-19  65.902668  62.67  87.52   64.09         3\n",
      "2022-05-20  66.448291  62.51  87.57   64.10         4\n",
      "2022-05-21  62.491316  57.05  84.47   58.89         5\n",
      "2022-05-22  62.505840  56.76  81.16   59.55         6\n",
      "2022-05-23  62.654977  56.50  91.51   59.53         0\n",
      "2022-05-24  62.594022  55.01  90.00   58.49         1\n",
      "2022-05-25  62.495815  54.99  91.54   57.85         2\n",
      "2022-05-26  62.969459  54.70  95.63   57.88         3\n",
      "2022-05-27  62.956717  54.96  88.89   58.10         4\n",
      "2022-05-28  62.186192  55.52  91.51   58.55         5\n",
      "2022-05-29  61.556614  55.36  90.96   58.20         6\n",
      "2022-05-30  61.563930  55.28  88.69   58.07         0\n",
      "2022-05-31  63.162203  56.57  93.55   59.08         1\n",
      "2022-06-01  63.761802  56.63  94.78   59.65         2\n",
      "2022-06-02  63.659071  56.46  90.40   59.25         3\n",
      "2022-06-03  63.309055  56.31  90.03   59.02         4\n",
      "2022-06-04  62.372230  56.43  85.42   58.69         5\n",
      "2022-06-05  61.516164  56.08  88.85   58.19         6\n",
      "2022-06-06  62.595650  56.08  88.17   58.02         0\n",
      "2022-06-07  63.160941  55.93  93.69   58.39         1\n",
      "2022-06-08  63.383637  55.88  87.90   59.23         2\n",
      "2022-06-09  63.795031  56.72  89.96   59.99         3\n",
      "2022-06-10  63.135103  56.03  94.56   58.86         4\n",
      "2022-06-11  62.301290  56.13  88.63   58.25         5\n",
      "2022-06-12  62.047288  56.00  87.18   58.13         6\n",
      "2022-06-13  63.656062  55.93  99.95   57.99         0\n"
     ]
    }
   ],
   "source": [
    "DateDW = df.groupby(pd.Grouper(key='datetime', freq='1D')).agg({'laeq': ['mean', 'min', 'max']})\n",
    "DateDWambient= df.groupby(pd.Grouper(key='datetime', freq='1D')).quantile(0.1)\n",
    "DateDW['ambient'] = DateDWambient['laeq']\n",
    "\n",
    "DateDW['dayofweek'] = DateDW.index.dayofweek\n",
    "# test = df.groupby(pd.Grouper(key='datetime', freq='1min')).agg({'laeq': ['mean', 'min', 'max']})\n",
    "print(DateDW)\n",
    "# print(test.index.dayofweek)"
   ]
  },
  {
   "cell_type": "code",
   "execution_count": 276,
   "id": "ef9ef8fd",
   "metadata": {},
   "outputs": [
    {
     "name": "stdout",
     "output_type": "stream",
     "text": [
      "laeq       mean    66.448291\n",
      "           min     62.510000\n",
      "           max     87.570000\n",
      "ambient            64.100000\n",
      "dayofweek           4.000000\n",
      "Name: 2022-05-20 00:00:00, dtype: float64\n"
     ]
    }
   ],
   "source": [
    "print(DateDW.iloc[2])"
   ]
  },
  {
   "cell_type": "code",
   "execution_count": 282,
   "id": "bdb6ad27",
   "metadata": {},
   "outputs": [
    {
     "name": "stdout",
     "output_type": "stream",
     "text": [
      "                 laeq               ambient dayofweek\n",
      "                 mean    min    max                  \n",
      "datetime                                             \n",
      "2022-05-18  65.841178  60.14  88.32   64.58         2\n",
      "2022-05-19  65.902668  62.67  87.52   64.09         3\n",
      "2022-05-20  66.448291  62.51  87.57   64.10         4\n",
      "2022-05-21  62.491316  57.05  84.47   58.89         5\n",
      "2022-05-22  62.505840  56.76  81.16   59.55         6\n",
      "2022-05-23  62.654977  56.50  91.51   59.53         0\n",
      "2022-05-24  62.594022  55.01  90.00   58.49         1\n",
      "2022-05-25  62.495815  54.99  91.54   57.85         2\n",
      "2022-05-26  62.969459  54.70  95.63   57.88         3\n",
      "2022-05-27  62.956717  54.96  88.89   58.10         4\n",
      "2022-05-28  62.186192  55.52  91.51   58.55         5\n",
      "2022-05-29  61.556614  55.36  90.96   58.20         6\n",
      "2022-05-30  61.563930  55.28  88.69   58.07         0\n",
      "2022-05-31  63.162203  56.57  93.55   59.08         1\n",
      "2022-06-01  63.761802  56.63  94.78   59.65         2\n",
      "2022-06-02  63.659071  56.46  90.40   59.25         3\n",
      "2022-06-03  63.309055  56.31  90.03   59.02         4\n",
      "2022-06-04  62.372230  56.43  85.42   58.69         5\n",
      "2022-06-05  61.516164  56.08  88.85   58.19         6\n",
      "2022-06-06  62.595650  56.08  88.17   58.02         0\n",
      "2022-06-07  63.160941  55.93  93.69   58.39         1\n",
      "2022-06-08  63.383637  55.88  87.90   59.23         2\n",
      "2022-06-09  63.795031  56.72  89.96   59.99         3\n",
      "2022-06-10  63.135103  56.03  94.56   58.86         4\n",
      "2022-06-11  62.301290  56.13  88.63   58.25         5\n",
      "2022-06-12  62.047288  56.00  87.18   58.13         6\n",
      "2022-06-13  63.656062  55.93  99.95   57.99         0\n"
     ]
    }
   ],
   "source": [
    "# print(DateDW.items)\n",
    "print(DateDW)\n",
    "def groupWeek(data):\n",
    "    weeks = []\n",
    "    wk = []\n",
    "    dates = data.index\n",
    "    for d in dates:\n",
    "#         print(d)\n",
    "        if d.dayofweek == 6:\n",
    "            wk.append(data.loc[d])\n",
    "            weeks.append(wk)\n",
    "            wk = []\n",
    "        else:\n",
    "            wk.append(data.loc[d])\n",
    "#         print(d.dayofweek)\n",
    "    return weeks\n"
   ]
  },
  {
   "cell_type": "code",
   "execution_count": 456,
   "id": "be8f855d",
   "metadata": {},
   "outputs": [],
   "source": [
    "def groupWeek2(data):\n",
    "    weeks = {}\n",
    "    wk = pd.DataFrame(columns = data.columns)\n",
    "    dates = data.index\n",
    "    c = 0\n",
    "#     print(type(wk), type(data))\n",
    "\n",
    "    for d in dates:\n",
    "        if d.dayofweek == 6:\n",
    "            c+=1\n",
    "\n",
    "#             wk.loc[data.index[c]]=data.loc[data.index[c]]\n",
    "            wk.loc[d]=data.loc[d]\n",
    "#             print(f'week is {wk}')\n",
    "            weeks[c] = wk\n",
    "#             weeks.append(wk)\n",
    "#             print(f'-----------WEEKS IS NOW {weeks}')\n",
    "#             print(c)\n",
    "#             print(weeks['c'])\n",
    "            wk = pd.DataFrame(columns = data.columns)\n",
    "#             print(wk)\n",
    "        else:\n",
    "#             wk.append(data.loc[d])\n",
    "#             print(type(wk), wk)\n",
    "            wk.loc[d]=data.loc[d]\n",
    "#         print(d.dayofweek)\n",
    "\n",
    "    for key in weeks:\n",
    "        print(\"\\n\" +\"=\"*40)\n",
    "        print(key)\n",
    "        print(\"-\"*40)\n",
    "        print(weeks[key])\n",
    "    return weeks\n",
    "\n",
    "# for d in DateDW.index:\n",
    "#     print(type(d))\n",
    "# print(type(DateDW.index[0]))\n",
    "# print()"
   ]
  },
  {
   "cell_type": "code",
   "execution_count": 457,
   "id": "5559ffbc",
   "metadata": {},
   "outputs": [
    {
     "name": "stdout",
     "output_type": "stream",
     "text": [
      "\n",
      "========================================\n",
      "1\n",
      "----------------------------------------\n",
      "                 laeq               ambient dayofweek\n",
      "                 mean    min    max                  \n",
      "2022-05-18  65.841178  60.14  88.32   64.58       2.0\n",
      "2022-05-19  65.902668  62.67  87.52   64.09       3.0\n",
      "2022-05-20  66.448291  62.51  87.57   64.10       4.0\n",
      "2022-05-21  62.491316  57.05  84.47   58.89       5.0\n",
      "2022-05-22  62.505840  56.76  81.16   59.55       6.0\n",
      "\n",
      "========================================\n",
      "2\n",
      "----------------------------------------\n",
      "                 laeq               ambient dayofweek\n",
      "                 mean    min    max                  \n",
      "2022-05-23  62.654977  56.50  91.51   59.53       0.0\n",
      "2022-05-24  62.594022  55.01  90.00   58.49       1.0\n",
      "2022-05-25  62.495815  54.99  91.54   57.85       2.0\n",
      "2022-05-26  62.969459  54.70  95.63   57.88       3.0\n",
      "2022-05-27  62.956717  54.96  88.89   58.10       4.0\n",
      "2022-05-28  62.186192  55.52  91.51   58.55       5.0\n",
      "2022-05-29  61.556614  55.36  90.96   58.20       6.0\n",
      "\n",
      "========================================\n",
      "3\n",
      "----------------------------------------\n",
      "                 laeq               ambient dayofweek\n",
      "                 mean    min    max                  \n",
      "2022-05-30  61.563930  55.28  88.69   58.07       0.0\n",
      "2022-05-31  63.162203  56.57  93.55   59.08       1.0\n",
      "2022-06-01  63.761802  56.63  94.78   59.65       2.0\n",
      "2022-06-02  63.659071  56.46  90.40   59.25       3.0\n",
      "2022-06-03  63.309055  56.31  90.03   59.02       4.0\n",
      "2022-06-04  62.372230  56.43  85.42   58.69       5.0\n",
      "2022-06-05  61.516164  56.08  88.85   58.19       6.0\n",
      "\n",
      "========================================\n",
      "4\n",
      "----------------------------------------\n",
      "                 laeq               ambient dayofweek\n",
      "                 mean    min    max                  \n",
      "2022-06-06  62.595650  56.08  88.17   58.02       0.0\n",
      "2022-06-07  63.160941  55.93  93.69   58.39       1.0\n",
      "2022-06-08  63.383637  55.88  87.90   59.23       2.0\n",
      "2022-06-09  63.795031  56.72  89.96   59.99       3.0\n",
      "2022-06-10  63.135103  56.03  94.56   58.86       4.0\n",
      "2022-06-11  62.301290  56.13  88.63   58.25       5.0\n",
      "2022-06-12  62.047288  56.00  87.18   58.13       6.0\n"
     ]
    },
    {
     "data": {
      "text/plain": [
       "{1:                  laeq               ambient dayofweek\n",
       "                  mean    min    max                  \n",
       " 2022-05-18  65.841178  60.14  88.32   64.58       2.0\n",
       " 2022-05-19  65.902668  62.67  87.52   64.09       3.0\n",
       " 2022-05-20  66.448291  62.51  87.57   64.10       4.0\n",
       " 2022-05-21  62.491316  57.05  84.47   58.89       5.0\n",
       " 2022-05-22  62.505840  56.76  81.16   59.55       6.0,\n",
       " 2:                  laeq               ambient dayofweek\n",
       "                  mean    min    max                  \n",
       " 2022-05-23  62.654977  56.50  91.51   59.53       0.0\n",
       " 2022-05-24  62.594022  55.01  90.00   58.49       1.0\n",
       " 2022-05-25  62.495815  54.99  91.54   57.85       2.0\n",
       " 2022-05-26  62.969459  54.70  95.63   57.88       3.0\n",
       " 2022-05-27  62.956717  54.96  88.89   58.10       4.0\n",
       " 2022-05-28  62.186192  55.52  91.51   58.55       5.0\n",
       " 2022-05-29  61.556614  55.36  90.96   58.20       6.0,\n",
       " 3:                  laeq               ambient dayofweek\n",
       "                  mean    min    max                  \n",
       " 2022-05-30  61.563930  55.28  88.69   58.07       0.0\n",
       " 2022-05-31  63.162203  56.57  93.55   59.08       1.0\n",
       " 2022-06-01  63.761802  56.63  94.78   59.65       2.0\n",
       " 2022-06-02  63.659071  56.46  90.40   59.25       3.0\n",
       " 2022-06-03  63.309055  56.31  90.03   59.02       4.0\n",
       " 2022-06-04  62.372230  56.43  85.42   58.69       5.0\n",
       " 2022-06-05  61.516164  56.08  88.85   58.19       6.0,\n",
       " 4:                  laeq               ambient dayofweek\n",
       "                  mean    min    max                  \n",
       " 2022-06-06  62.595650  56.08  88.17   58.02       0.0\n",
       " 2022-06-07  63.160941  55.93  93.69   58.39       1.0\n",
       " 2022-06-08  63.383637  55.88  87.90   59.23       2.0\n",
       " 2022-06-09  63.795031  56.72  89.96   59.99       3.0\n",
       " 2022-06-10  63.135103  56.03  94.56   58.86       4.0\n",
       " 2022-06-11  62.301290  56.13  88.63   58.25       5.0\n",
       " 2022-06-12  62.047288  56.00  87.18   58.13       6.0}"
      ]
     },
     "execution_count": 457,
     "metadata": {},
     "output_type": "execute_result"
    }
   ],
   "source": [
    "groupWeek2(DateDW)"
   ]
  },
  {
   "cell_type": "code",
   "execution_count": 93,
   "id": "5442f220",
   "metadata": {},
   "outputs": [],
   "source": [
    "def percentile(n):\n",
    "    def percentile_(x):\n",
    "        return np.percentile(x, n)\n",
    "    percentile_.__name__ = 'percentile_%s' % n\n",
    "    return percentile_\n",
    "\n"
   ]
  },
  {
   "cell_type": "code",
   "execution_count": 343,
   "id": "ca544318",
   "metadata": {},
   "outputs": [
    {
     "name": "stdout",
     "output_type": "stream",
     "text": [
      "laeq       mean    NaN\n",
      "           min     NaN\n",
      "           max     NaN\n",
      "ambient            NaN\n",
      "dayofweek          NaN\n",
      "Name: 2022-05-18 00:00:00, dtype: object\n",
      "                 laeq               ambient dayofweek\n",
      "                 mean    min    max                  \n",
      "datetime                                             \n",
      "2022-05-18  65.841178  60.14  88.32   64.58       2.0\n",
      "2022-05-19  65.902668  62.67  87.52   64.09       3.0\n",
      "2022-05-20        NaN    NaN    NaN     NaN       NaN\n",
      "2022-05-21        NaN    NaN    NaN     NaN       NaN\n",
      "2022-05-22        NaN    NaN    NaN     NaN       NaN\n",
      "2022-05-23        NaN    NaN    NaN     NaN       NaN\n",
      "2022-05-24        NaN    NaN    NaN     NaN       NaN\n",
      "2022-05-25        NaN    NaN    NaN     NaN       NaN\n",
      "2022-05-26        NaN    NaN    NaN     NaN       NaN\n",
      "2022-05-27        NaN    NaN    NaN     NaN       NaN\n",
      "2022-05-28        NaN    NaN    NaN     NaN       NaN\n",
      "2022-05-29        NaN    NaN    NaN     NaN       NaN\n",
      "2022-05-30        NaN    NaN    NaN     NaN       NaN\n",
      "2022-05-31        NaN    NaN    NaN     NaN       NaN\n",
      "2022-06-01        NaN    NaN    NaN     NaN       NaN\n",
      "2022-06-02        NaN    NaN    NaN     NaN       NaN\n",
      "2022-06-03        NaN    NaN    NaN     NaN       NaN\n",
      "2022-06-04        NaN    NaN    NaN     NaN       NaN\n",
      "2022-06-05        NaN    NaN    NaN     NaN       NaN\n",
      "2022-06-06        NaN    NaN    NaN     NaN       NaN\n",
      "2022-06-07        NaN    NaN    NaN     NaN       NaN\n",
      "2022-06-08        NaN    NaN    NaN     NaN       NaN\n",
      "2022-06-09        NaN    NaN    NaN     NaN       NaN\n",
      "2022-06-10        NaN    NaN    NaN     NaN       NaN\n",
      "2022-06-11        NaN    NaN    NaN     NaN       NaN\n",
      "2022-06-12        NaN    NaN    NaN     NaN       NaN\n",
      "2022-06-13        NaN    NaN    NaN     NaN       NaN\n"
     ]
    }
   ],
   "source": [
    "# groupWeek1(DateDW)\n",
    "\n",
    "datesXYZ = DateDW.index\n",
    "wk = pd.DataFrame(index=DateDW.index, columns = DateDW.columns)\n",
    "# print(DateDW.loc[DateDW.index[0]])\n",
    "\n",
    "\n",
    "wk = pd.DataFrame(index=DateDW.index, columns = DateDW.columns)\n",
    "print(wk.iloc[0])\n",
    "\n",
    "#TO FIX, MAKE INTO FUNCITON\n",
    "\n",
    "wk.loc[DateDW.index[0]]=DateDW.loc[DateDW.index[0]]\n",
    "wk.loc[DateDW.index[1]]=DateDW.loc[DateDW.index[1]]\n",
    "\n",
    "print(wk)"
   ]
  },
  {
   "cell_type": "code",
   "execution_count": 281,
   "id": "793b3f98",
   "metadata": {},
   "outputs": [
    {
     "name": "stdout",
     "output_type": "stream",
     "text": [
      "[[laeq       mean    65.841178\n",
      "           min     60.140000\n",
      "           max     88.320000\n",
      "ambient            64.580000\n",
      "dayofweek           2.000000\n",
      "Name: 2022-05-18 00:00:00, dtype: float64, laeq       mean    65.902668\n",
      "           min     62.670000\n",
      "           max     87.520000\n",
      "ambient            64.090000\n",
      "dayofweek           3.000000\n",
      "Name: 2022-05-19 00:00:00, dtype: float64, laeq       mean    66.448291\n",
      "           min     62.510000\n",
      "           max     87.570000\n",
      "ambient            64.100000\n",
      "dayofweek           4.000000\n",
      "Name: 2022-05-20 00:00:00, dtype: float64, laeq       mean    62.491316\n",
      "           min     57.050000\n",
      "           max     84.470000\n",
      "ambient            58.890000\n",
      "dayofweek           5.000000\n",
      "Name: 2022-05-21 00:00:00, dtype: float64, laeq       mean    62.50584\n",
      "           min     56.76000\n",
      "           max     81.16000\n",
      "ambient            59.55000\n",
      "dayofweek           6.00000\n",
      "Name: 2022-05-22 00:00:00, dtype: float64], [laeq       mean    62.654977\n",
      "           min     56.500000\n",
      "           max     91.510000\n",
      "ambient            59.530000\n",
      "dayofweek           0.000000\n",
      "Name: 2022-05-23 00:00:00, dtype: float64, laeq       mean    62.594022\n",
      "           min     55.010000\n",
      "           max     90.000000\n",
      "ambient            58.490000\n",
      "dayofweek           1.000000\n",
      "Name: 2022-05-24 00:00:00, dtype: float64, laeq       mean    62.495815\n",
      "           min     54.990000\n",
      "           max     91.540000\n",
      "ambient            57.850000\n",
      "dayofweek           2.000000\n",
      "Name: 2022-05-25 00:00:00, dtype: float64, laeq       mean    62.969459\n",
      "           min     54.700000\n",
      "           max     95.630000\n",
      "ambient            57.880000\n",
      "dayofweek           3.000000\n",
      "Name: 2022-05-26 00:00:00, dtype: float64, laeq       mean    62.956717\n",
      "           min     54.960000\n",
      "           max     88.890000\n",
      "ambient            58.100000\n",
      "dayofweek           4.000000\n",
      "Name: 2022-05-27 00:00:00, dtype: float64, laeq       mean    62.186192\n",
      "           min     55.520000\n",
      "           max     91.510000\n",
      "ambient            58.550000\n",
      "dayofweek           5.000000\n",
      "Name: 2022-05-28 00:00:00, dtype: float64, laeq       mean    61.556614\n",
      "           min     55.360000\n",
      "           max     90.960000\n",
      "ambient            58.200000\n",
      "dayofweek           6.000000\n",
      "Name: 2022-05-29 00:00:00, dtype: float64], [laeq       mean    61.56393\n",
      "           min     55.28000\n",
      "           max     88.69000\n",
      "ambient            58.07000\n",
      "dayofweek           0.00000\n",
      "Name: 2022-05-30 00:00:00, dtype: float64, laeq       mean    63.162203\n",
      "           min     56.570000\n",
      "           max     93.550000\n",
      "ambient            59.080000\n",
      "dayofweek           1.000000\n",
      "Name: 2022-05-31 00:00:00, dtype: float64, laeq       mean    63.761802\n",
      "           min     56.630000\n",
      "           max     94.780000\n",
      "ambient            59.650000\n",
      "dayofweek           2.000000\n",
      "Name: 2022-06-01 00:00:00, dtype: float64, laeq       mean    63.659071\n",
      "           min     56.460000\n",
      "           max     90.400000\n",
      "ambient            59.250000\n",
      "dayofweek           3.000000\n",
      "Name: 2022-06-02 00:00:00, dtype: float64, laeq       mean    63.309055\n",
      "           min     56.310000\n",
      "           max     90.030000\n",
      "ambient            59.020000\n",
      "dayofweek           4.000000\n",
      "Name: 2022-06-03 00:00:00, dtype: float64, laeq       mean    62.37223\n",
      "           min     56.43000\n",
      "           max     85.42000\n",
      "ambient            58.69000\n",
      "dayofweek           5.00000\n",
      "Name: 2022-06-04 00:00:00, dtype: float64, laeq       mean    61.516164\n",
      "           min     56.080000\n",
      "           max     88.850000\n",
      "ambient            58.190000\n",
      "dayofweek           6.000000\n",
      "Name: 2022-06-05 00:00:00, dtype: float64], [laeq       mean    62.59565\n",
      "           min     56.08000\n",
      "           max     88.17000\n",
      "ambient            58.02000\n",
      "dayofweek           0.00000\n",
      "Name: 2022-06-06 00:00:00, dtype: float64, laeq       mean    63.160941\n",
      "           min     55.930000\n",
      "           max     93.690000\n",
      "ambient            58.390000\n",
      "dayofweek           1.000000\n",
      "Name: 2022-06-07 00:00:00, dtype: float64, laeq       mean    63.383637\n",
      "           min     55.880000\n",
      "           max     87.900000\n",
      "ambient            59.230000\n",
      "dayofweek           2.000000\n",
      "Name: 2022-06-08 00:00:00, dtype: float64, laeq       mean    63.795031\n",
      "           min     56.720000\n",
      "           max     89.960000\n",
      "ambient            59.990000\n",
      "dayofweek           3.000000\n",
      "Name: 2022-06-09 00:00:00, dtype: float64, laeq       mean    63.135103\n",
      "           min     56.030000\n",
      "           max     94.560000\n",
      "ambient            58.860000\n",
      "dayofweek           4.000000\n",
      "Name: 2022-06-10 00:00:00, dtype: float64, laeq       mean    62.30129\n",
      "           min     56.13000\n",
      "           max     88.63000\n",
      "ambient            58.25000\n",
      "dayofweek           5.00000\n",
      "Name: 2022-06-11 00:00:00, dtype: float64, laeq       mean    62.047288\n",
      "           min     56.000000\n",
      "           max     87.180000\n",
      "ambient            58.130000\n",
      "dayofweek           6.000000\n",
      "Name: 2022-06-12 00:00:00, dtype: float64]]\n"
     ]
    }
   ],
   "source": [
    "weekInfo = groupWeek(DateDW)\n",
    "print(weekInfo)\n",
    "\n",
    "# for series in weekInfo[1]:\n",
    "#     x = series.to_frame()\n",
    "#     print(type(x))\n",
    "#     print(x)\n",
    "#     # plt.plot(weekInfo[1])"
   ]
  },
  {
   "cell_type": "code",
   "execution_count": null,
   "id": "c723a832",
   "metadata": {},
   "outputs": [],
   "source": []
  },
  {
   "cell_type": "markdown",
   "id": "f47345c0",
   "metadata": {},
   "source": [
    "## -------------------------"
   ]
  },
  {
   "cell_type": "code",
   "execution_count": null,
   "id": "392c450e",
   "metadata": {},
   "outputs": [],
   "source": [
    "DWdays, DWmeans, DWmins, DWmaxs, DWstds, DWmedians, DWambient = getBasicStat('dayofweek')"
   ]
  },
  {
   "cell_type": "code",
   "execution_count": null,
   "id": "db0624b6",
   "metadata": {},
   "outputs": [],
   "source": [
    "daysofweekDict = {DWdays[0]:'Monday', DWdays[1]: 'Tuesday', DWdays[2]: 'Wednesday', DWdays[3]: 'Thursday', \n",
    "                  DWdays[4]: 'Friday', DWdays[5]: 'Saturday', DWdays[6]: 'Sunday'}\n",
    "\n",
    "DWlabels = list(daysofweekDict.values())"
   ]
  },
  {
   "cell_type": "code",
   "execution_count": null,
   "id": "8a9dc393",
   "metadata": {},
   "outputs": [],
   "source": [
    "figure(figsize=(10, 8), dpi=80)\n",
    "plt.plot(DWlabels, DWmeans, '.-', c = 'r')\n",
    "plt.plot(DWlabels, DWmins, '.-', c = 'm')\n",
    "plt.plot(DWlabels, DWmaxs, '.-', c = 'b')\n",
    "plt.plot(DWlabels, DWmedians)\n",
    "\n",
    "plt.xlabel('Days of the Week')\n",
    "plt.ylabel('LAeq')\n",
    "# plt.yticks(np.linspace(round(min(mins)-1), np.ceil(max(maxs)),10, dtype=int))\n",
    "# plt.xticks(rotation = 90)\n",
    "plt.title('LAeq levels by Day of Week')\n",
    "plt.errorbar(DWlabels, DWmeans, yerr = DWstds, c = 'r')\n",
    "plt.legend(['Average','Min', 'Max', 'Median'])\n",
    "plt.grid(True)\n",
    "plt.show()"
   ]
  },
  {
   "cell_type": "markdown",
   "id": "3de4ab2c",
   "metadata": {},
   "source": [
    "#### Heat Map: Average Hourly LAeq Levels per Day of Week"
   ]
  },
  {
   "cell_type": "code",
   "execution_count": null,
   "id": "92239d39",
   "metadata": {},
   "outputs": [],
   "source": [
    "import seaborn as sns"
   ]
  },
  {
   "cell_type": "code",
   "execution_count": null,
   "id": "014e19d2",
   "metadata": {},
   "outputs": [],
   "source": [
    "df['hour'] = df['datetime'].dt.hour"
   ]
  },
  {
   "cell_type": "code",
   "execution_count": null,
   "id": "c8e9dfb2",
   "metadata": {},
   "outputs": [],
   "source": [
    "# result = df.groupby(['hour', 'dayofweek']).agg({'laeq': ['mean', 'min', 'max', 'std', 'median']})\n",
    "laeq_mean = df.groupby(['hour', 'dayofweek']).agg({'laeq': ['mean']})\n",
    "# print(laeq_mean)\n",
    "\n",
    "df2 = laeq_mean.reset_index().pivot(columns='dayofweek',index='hour',values={'laeq': ['mean']})\n",
    "# print(df2)\n",
    "\n",
    "fig, ax = plt.subplots(figsize=(5, 7))\n",
    "hm = sns.heatmap(df2, vmin = 55, vmax = 70, linewidths=.5,cmap='OrRd');\n",
    "hm.invert_yaxis()\n",
    "hm.set_xticks(np.arange(len(DWlabels)))\n",
    "hm.set_xticklabels(DWlabels, rotation=45)\n",
    "\n",
    "plt.xlabel('Day of Week')\n",
    "plt.ylabel('Hour')\n",
    "plt.title(' Time Series: Average Hourly LAeq Levels per Day of Week Heat Map')"
   ]
  },
  {
   "cell_type": "code",
   "execution_count": null,
   "id": "9fa3876a",
   "metadata": {},
   "outputs": [],
   "source": [
    "# DWxHRdays, DWxHRmeans, DWxHRmins, DWxHRmaxs, DWxHRstds, DWxHRmedians = getBasicStat(['hour', 'dayofweek'])"
   ]
  },
  {
   "cell_type": "markdown",
   "id": "dce3e7f3",
   "metadata": {},
   "source": [
    "#### Heat Map: LAeq Levels by Time of Day per Day of Week"
   ]
  },
  {
   "cell_type": "code",
   "execution_count": null,
   "id": "11a63909",
   "metadata": {},
   "outputs": [],
   "source": [
    "# df.set_index('datetime',inplace=True) #JUST NEED TO RUN THIS ONE TIME\n",
    "x = df.resample('6H').mean();\n",
    "# print(x)\n",
    "# print(x.index.hour)\n",
    "x['hour'] = x.index.hour;\n",
    "DF = x.groupby(['dayofweek', 'hour']).agg({'laeq': ['mean']})"
   ]
  },
  {
   "cell_type": "code",
   "execution_count": null,
   "id": "cc8268da",
   "metadata": {},
   "outputs": [],
   "source": [
    "print(DF)"
   ]
  },
  {
   "cell_type": "code",
   "execution_count": null,
   "id": "d52f3362",
   "metadata": {},
   "outputs": [],
   "source": [
    "hours_ref=x['hour']\n",
    "hourlist1=hours_ref.unique().tolist()\n",
    "hrlist = sorted(hourlist1)\n",
    "\n",
    "timeofdayDict = {hrlist[0]: 'Early Morning (12am-6am)', \n",
    "                 hrlist[1]: 'Morning (6am-12pm)', \n",
    "                 hrlist[2]: 'Afternoon (12pm-6pm)', \n",
    "                 hrlist[3]: 'Night (6pm-12am)'}\n",
    "\n",
    "TDlabels = list(timeofdayDict.values())\n",
    "print(timeofdayDict)"
   ]
  },
  {
   "cell_type": "code",
   "execution_count": null,
   "id": "d3e4a76d",
   "metadata": {},
   "outputs": [],
   "source": [
    "y = x.reset_index().pivot_table(index='hour', columns='dayofweek', values='laeq', aggfunc='mean')\n",
    "print(y)"
   ]
  },
  {
   "cell_type": "code",
   "execution_count": null,
   "id": "3387e2c1",
   "metadata": {},
   "outputs": [],
   "source": [
    "y = x.reset_index().pivot_table(index='hour', columns='dayofweek', values='laeq', aggfunc='mean')\n",
    "\n",
    "# df3 = x.reset_index().pivot(columns='dayofweek',index='hour',values={'laeq': ['mean']})\n",
    "\n",
    "# print(df2)\n",
    "\n",
    "fig, ax = plt.subplots(figsize=(5, 7))\n",
    "hm = sns.heatmap(y, annot=True, vmin = 55, vmax = 70, linewidths=.5,cmap='Blues');\n",
    "hm.invert_yaxis()\n",
    "hm.set_yticks(np.arange(len(TDlabels)))\n",
    "hm.set_yticklabels(TDlabels, rotation=0)\n",
    "hm.set_xticks(np.arange(len(DWlabels)))\n",
    "hm.set_xticklabels(DWlabels, rotation=90)\n",
    "\n",
    "plt.title(' LAeq Levels by Time of Day per Day of Week Heat Map')\n",
    "plt.xlabel('Day of Week')\n",
    "plt.ylabel('Hour')\n"
   ]
  },
  {
   "cell_type": "code",
   "execution_count": null,
   "id": "8986065b",
   "metadata": {},
   "outputs": [],
   "source": []
  }
 ],
 "metadata": {
  "kernelspec": {
   "display_name": "Python 3",
   "language": "python",
   "name": "python3"
  },
  "language_info": {
   "codemirror_mode": {
    "name": "ipython",
    "version": 3
   },
   "file_extension": ".py",
   "mimetype": "text/x-python",
   "name": "python",
   "nbconvert_exporter": "python",
   "pygments_lexer": "ipython3",
   "version": "3.8.8"
  }
 },
 "nbformat": 4,
 "nbformat_minor": 5
}
