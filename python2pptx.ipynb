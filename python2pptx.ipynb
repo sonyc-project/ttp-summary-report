{
 "cells": [
  {
   "cell_type": "code",
   "execution_count": 190,
   "id": "d40224fe",
   "metadata": {},
   "outputs": [],
   "source": [
    "# ! pip install python-pptx\n",
    "from pptx import Presentation\n",
    "from pptx.util import Inches"
   ]
  },
  {
   "cell_type": "code",
   "execution_count": 191,
   "id": "a546f12c",
   "metadata": {},
   "outputs": [],
   "source": [
    "# f = open('SONYC Home Deployment Summary Template.pptx')\n",
    "f = '1SONYC Home Deployment Summary Template.pptx'\n",
    "prs = Presentation(f)\n",
    "# prs.close()"
   ]
  },
  {
   "cell_type": "code",
   "execution_count": 192,
   "id": "51a1dddc",
   "metadata": {},
   "outputs": [
    {
     "name": "stdout",
     "output_type": "stream",
     "text": [
      "17\n",
      "21\n"
     ]
    }
   ],
   "source": [
    "slide_layouts = prs.slide_layouts\n",
    "print(len(slide_layouts))\n",
    "print(len(prs.slides))"
   ]
  },
  {
   "cell_type": "code",
   "execution_count": 193,
   "id": "a584c8b9",
   "metadata": {},
   "outputs": [
    {
     "name": "stdout",
     "output_type": "stream",
     "text": [
      "0 Google Shape;217;p28\n",
      "1 Google Shape;218;p28\n",
      "12 Google Shape;219;p28\n",
      "13 Picture Placeholder 1\n",
      "id: 217, type: PLACEHOLDER (14)\n",
      "id: 218, type: PLACEHOLDER (14)\n",
      "id: 219, type: PLACEHOLDER (14)\n",
      "id: 2, type: PLACEHOLDER (14)\n"
     ]
    }
   ],
   "source": [
    "# slide = prs.slides.add_slide(prs.slide_layouts[8])\n",
    "s9 = prs.slides[9]\n",
    "for shape in s9.placeholders:\n",
    "    print('%d %s' % (shape.placeholder_format.idx, shape.name))\n",
    "    \n",
    "for shape in s9.shapes:\n",
    "    print(\"id: %s, type: %s\" % (shape.shape_id, shape.shape_type))\n",
    "\n",
    "    \n",
    "# for shape in slide.placeholders:\n",
    "# ...     print('%d %s' % (shape.placeholder_format.idx, shape.name))"
   ]
  },
  {
   "cell_type": "code",
   "execution_count": 194,
   "id": "c44ff1e9",
   "metadata": {},
   "outputs": [],
   "source": [
    "#adding first plot\n",
    "s9placeholder = s9.placeholders[13]\n",
    "\n",
    "s9plot = s9placeholder.insert_picture('plotimg/plot.png')\n",
    "s9plot.crop_top = 0\n",
    "# s9plot.crop_left = 0\n",
    "s9plot.crop_bottom = 0\n",
    "# s9plot.crop_right = 0"
   ]
  },
  {
   "cell_type": "code",
   "execution_count": 195,
   "id": "3f83751e",
   "metadata": {},
   "outputs": [],
   "source": [
    "prs.save('testing.pptx')"
   ]
  },
  {
   "cell_type": "code",
   "execution_count": null,
   "id": "f1ab2fae",
   "metadata": {},
   "outputs": [],
   "source": []
  },
  {
   "cell_type": "code",
   "execution_count": null,
   "id": "80293077",
   "metadata": {},
   "outputs": [],
   "source": []
  }
 ],
 "metadata": {
  "kernelspec": {
   "display_name": "Python 3",
   "language": "python",
   "name": "python3"
  },
  "language_info": {
   "codemirror_mode": {
    "name": "ipython",
    "version": 3
   },
   "file_extension": ".py",
   "mimetype": "text/x-python",
   "name": "python",
   "nbconvert_exporter": "python",
   "pygments_lexer": "ipython3",
   "version": "3.8.8"
  }
 },
 "nbformat": 4,
 "nbformat_minor": 5
}
